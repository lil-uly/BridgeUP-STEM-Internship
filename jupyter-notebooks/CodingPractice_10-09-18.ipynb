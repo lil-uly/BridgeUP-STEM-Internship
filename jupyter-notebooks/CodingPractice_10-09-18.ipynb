{
 "cells": [
  {
   "cell_type": "markdown",
   "metadata": {
    "deletable": true,
    "editable": true
   },
   "source": [
    "# Oct. 9 Brown Scholars Internship\n",
    "\n",
    "![Image of sea otter](https://i.pinimg.com/originals/19/64/06/196406fe4d71b90ca92065e8b95d88c3.jpg)\n",
    "\n",
    "## Welcome to our first official internship session\n",
    "### This is a series of fun Python exercises to help me learn more about your coding skills. Don't worry if you can't finish all of them in the class time we have."
   ]
  },
  {
   "cell_type": "markdown",
   "metadata": {
    "deletable": true,
    "editable": true
   },
   "source": [
    "### 1. AboutMe\n",
    "Write a script that prints your name and your favorite animal, using assignments."
   ]
  },
  {
   "cell_type": "code",
   "execution_count": 1,
   "metadata": {
    "collapsed": true,
    "deletable": true,
    "editable": true
   },
   "outputs": [],
   "source": [
    "## Write your script here"
   ]
  },
  {
   "cell_type": "markdown",
   "metadata": {
    "deletable": true,
    "editable": true
   },
   "source": [
    "### 2. MakesTen\n",
    "Write a function that takes two integers, a and b. Return True if one if them is 10 or if their sum is 10."
   ]
  },
  {
   "cell_type": "code",
   "execution_count": null,
   "metadata": {
    "collapsed": true,
    "deletable": true,
    "editable": true
   },
   "outputs": [],
   "source": [
    "def makes10(a,b):\n",
    "    if a == 10:\n",
    "        return(\"True\")\n",
    "    elif b == 10:\n",
    "        return(\"True\")\n",
    "    elif a + b == 10:\n",
    "        return(\"True\")\n",
    "    "
   ]
  },
  {
   "cell_type": "code",
   "execution_count": null,
   "metadata": {
    "collapsed": true,
    "deletable": true,
    "editable": true
   },
   "outputs": [],
   "source": [
    "## Test your functions\n",
    "\n",
    "print(makes10(9, 1))\n",
    "print(makes10(10,1))\n",
    "print(makes10(345, 10))\n",
    "print(makes10(3939, 103))"
   ]
  },
  {
   "cell_type": "markdown",
   "metadata": {
    "deletable": true,
    "editable": true
   },
   "source": [
    "### 3. List Comprehension\n",
    "Given **a**, the list below, write a script (list comprehension) to return only the even elements of this list. "
   ]
  },
  {
   "cell_type": "code",
   "execution_count": null,
   "metadata": {
    "collapsed": true,
    "deletable": true,
    "editable": true
   },
   "outputs": [],
   "source": [
    "a = [1, 4, 9, 16, 25, 36, 49, 64, 81, 100]"
   ]
  },
  {
   "cell_type": "code",
   "execution_count": null,
   "metadata": {
    "collapsed": true,
    "deletable": true,
    "editable": true,
    "scrolled": true
   },
   "outputs": [],
   "source": [
    "## Write your script here"
   ]
  },
  {
   "cell_type": "markdown",
   "metadata": {
    "deletable": true,
    "editable": true
   },
   "source": [
    "### 4. For loops\n",
    "Write a for loop that prints out all of the odd numbers between 1 and 100. "
   ]
  },
  {
   "cell_type": "code",
   "execution_count": null,
   "metadata": {
    "collapsed": true,
    "deletable": true,
    "editable": true
   },
   "outputs": [],
   "source": [
    "## Write your script here"
   ]
  },
  {
   "cell_type": "markdown",
   "metadata": {
    "deletable": true,
    "editable": true
   },
   "source": [
    "### 5. Create a calculator! \n",
    "Python has built-in functions to make simple calculations, like **add**, **subtract**, **multiply** and **divide**. Can you write your own functions to carry out these calculations instead? Make four functions — **add**, **sub**, **mul**, and **div** — that take in two numbers and return the appropriate output. For example, mul(4,3) = 12. \n",
    "(Hint: divide may be tricky. What happens when one of the inputs is 0?).\n",
    "\n",
    "If you finish early, try writing other mathematical functions you can think of. For example, pow2, which takes an input and raises it to the 2nd power (pow2(10) = 100). Or a general power function that takes one input and raises it to the second input (pow(2,5) = 2^5 = 32). Other options: [Floor and ceiling functions](https://www.mathsisfun.com/sets/function-floor-ceiling.html)."
   ]
  },
  {
   "cell_type": "code",
   "execution_count": null,
   "metadata": {
    "collapsed": true,
    "deletable": true,
    "editable": true
   },
   "outputs": [],
   "source": [
    "def add(x,y):\n",
    "    print(x+y)\n",
    "\n",
    "def subtract(x,y):\n",
    "    \"\"\"Your code here\"\"\"\n",
    "\n",
    "def multiply(x,y):\n",
    "    \"\"\"Your code here\"\"\"\n",
    "\n",
    "def divide(x,y):\n",
    "    \"\"\"Your code here\"\"\""
   ]
  },
  {
   "cell_type": "code",
   "execution_count": null,
   "metadata": {
    "collapsed": true,
    "deletable": true,
    "editable": true
   },
   "outputs": [],
   "source": [
    "## Test your functions!\n",
    "print(add(1,2))\n",
    "print(subtract(5,7))\n",
    "print(multiply(4,3))\n",
    "print(divide(7,4))\n",
    "print(divide(7,0))"
   ]
  },
  {
   "cell_type": "markdown",
   "metadata": {
    "deletable": true,
    "editable": true
   },
   "source": [
    "### 6. Import files and make graphs\n",
    "Download the file called \"FavoriteNumbers.csv\" from the GitHub repository. These are the favorite numbers between 1 and 10 of everyone in #oceans_six. Remember how to load files using pandas? Recall that you can show the first few rows by using the .head() command.\n"
   ]
  },
  {
   "cell_type": "code",
   "execution_count": null,
   "metadata": {
    "collapsed": true,
    "deletable": true,
    "editable": true
   },
   "outputs": [],
   "source": [
    "import pandas as pd\n",
    "df = pd.read_csv(\"FavoriteNumbers.csv\")\n",
    "df.head()"
   ]
  },
  {
   "cell_type": "markdown",
   "metadata": {
    "deletable": true,
    "editable": true
   },
   "source": [
    "\n",
    "Try to calculate the mean, median and standard deviation of this dataset. You may have to use numpy for this. "
   ]
  },
  {
   "cell_type": "code",
   "execution_count": 1,
   "metadata": {
    "collapsed": true,
    "deletable": true,
    "editable": true
   },
   "outputs": [],
   "source": [
    "import numpy as np\n"
   ]
  },
  {
   "cell_type": "markdown",
   "metadata": {
    "deletable": true,
    "editable": true
   },
   "source": [
    "Now, can you make a [histogram](https://en.wikipedia.org/wiki/Histogram) to show the most commonly picked numbers? You will have to import a new package, matplotlib.pyplot, to do this. This package has its own built-in bar graph function: try running matplotlib.pyplot.bar([list1], [list2]). List1 should contain the possible number options, and list2 should "
   ]
  },
  {
   "cell_type": "code",
   "execution_count": 2,
   "metadata": {
    "collapsed": true,
    "deletable": true,
    "editable": true
   },
   "outputs": [],
   "source": [
    "import matplotlib.pyplot as plt\n"
   ]
  }
 ],
 "metadata": {
  "kernelspec": {
   "display_name": "Python 3",
   "language": "python",
   "name": "python3"
  },
  "language_info": {
   "codemirror_mode": {
    "name": "ipython",
    "version": 3
   },
   "file_extension": ".py",
   "mimetype": "text/x-python",
   "name": "python",
   "nbconvert_exporter": "python",
   "pygments_lexer": "ipython3",
   "version": "3.6.4"
  }
 },
 "nbformat": 4,
 "nbformat_minor": 2
}
