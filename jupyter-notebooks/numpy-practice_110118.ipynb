{
 "cells": [
  {
   "cell_type": "markdown",
   "metadata": {},
   "source": [
    "# Internship Session 11/1: numpy arrays refresher\n",
    "![sea turtle!](https://kids.nationalgeographic.com/content/dam/kids/photos/animals/Reptiles/A-G/green-sea-turtle-closeup-underwater.adapt.945.1.jpg)"
   ]
  },
  {
   "cell_type": "markdown",
   "metadata": {},
   "source": [
    "### Exercises 1 & 2\n",
    "1. In the array below, how can you select the element '222'? What command is required? What about the element '11'\n",
    "2. In the array below, how can you select the second row? What about the third column? (Assume that the first row means index 0, and so on)"
   ]
  },
  {
   "cell_type": "code",
   "execution_count": 8,
   "metadata": {},
   "outputs": [
    {
     "name": "stdout",
     "output_type": "stream",
     "text": [
      "[[  1   2  10  11]\n",
      " [  2   3   7   9]\n",
      " [222   1   3  14]\n",
      " [100 101 223  17]]\n",
      "[ 10   7   3 223]\n"
     ]
    }
   ],
   "source": [
    "import numpy as np\n",
    "a = np.array([[1, 2, 10, 11], [2, 3, 7, 9], [222, 1,3, 14], [100, 101, 223, 17]])\n",
    "print(a)\n",
    "print(a[:,2])"
   ]
  },
  {
   "cell_type": "markdown",
   "metadata": {},
   "source": [
    "### Exercise 3\n",
    "3. In the array below, how can you select the element '19'? What about the element '28'?"
   ]
  },
  {
   "cell_type": "code",
   "execution_count": 12,
   "metadata": {},
   "outputs": [
    {
     "name": "stdout",
     "output_type": "stream",
     "text": [
      "[[[ 0  1  2  3]\n",
      "  [ 4  5  6  7]]\n",
      "\n",
      " [[ 8  9 10 11]\n",
      "  [12 13 14 15]]\n",
      "\n",
      " [[16 17 18 19]\n",
      "  [20 21 22 23]]\n",
      "\n",
      " [[24 25 26 27]\n",
      "  [28 29 30 31]]]\n"
     ]
    },
    {
     "data": {
      "text/plain": [
       "28"
      ]
     },
     "execution_count": 12,
     "metadata": {},
     "output_type": "execute_result"
    }
   ],
   "source": [
    "b = np.arange(32).reshape(4,2,4)\n",
    "print(b)\n",
    "b[3,1,0]"
   ]
  },
  {
   "cell_type": "markdown",
   "metadata": {},
   "source": [
    "### Challenges\n",
    "In the array below, how can you select the first row in the second group? What about all elements in the first group? What about all elements in the second column?"
   ]
  },
  {
   "cell_type": "code",
   "execution_count": 27,
   "metadata": {},
   "outputs": [
    {
     "data": {
      "text/plain": [
       "array([[[ 0,  1,  2,  3],\n",
       "        [ 4,  5,  6,  7]],\n",
       "\n",
       "       [[ 8,  9, 10, 11],\n",
       "        [12, 13, 14, 15]],\n",
       "\n",
       "       [[16, 17, 18, 19],\n",
       "        [20, 21, 22, 23]],\n",
       "\n",
       "       [[24, 25, 26, 27],\n",
       "        [28, 29, 30, 31]]])"
      ]
     },
     "execution_count": 27,
     "metadata": {},
     "output_type": "execute_result"
    }
   ],
   "source": [
    "b = np.arange(32).reshape(4,2,4)\n",
    "b"
   ]
  },
  {
   "cell_type": "markdown",
   "metadata": {},
   "source": [
    "### More challenges\n",
    "How many dimensions does the array below have? What is its shape?\n",
    "How would you select the upper-right-corner element? What about the lower-left-corner element?"
   ]
  },
  {
   "cell_type": "code",
   "execution_count": 21,
   "metadata": {},
   "outputs": [
    {
     "name": "stdout",
     "output_type": "stream",
     "text": [
      "[[[[[[[0.64587243 0.57517804]\n",
      "      [0.58865313 0.88973012]]\n",
      "\n",
      "     [[0.69842984 0.90449896]\n",
      "      [0.11795682 0.34362788]]]\n",
      "\n",
      "\n",
      "    [[[0.12831895 0.74307204]\n",
      "      [0.91348508 0.71682273]]\n",
      "\n",
      "     [[0.79495795 0.63325621]\n",
      "      [0.18740041 0.74718033]]]]\n",
      "\n",
      "\n",
      "\n",
      "   [[[[0.42589076 0.01448345]\n",
      "      [0.31260639 0.10147815]]\n",
      "\n",
      "     [[0.70646189 0.04131813]\n",
      "      [0.22423515 0.4728401 ]]]\n",
      "\n",
      "\n",
      "    [[[0.30229297 0.63555599]\n",
      "      [0.80660445 0.58303009]]\n",
      "\n",
      "     [[0.94655808 0.79335601]\n",
      "      [0.48274675 0.08756656]]]]]\n",
      "\n",
      "\n",
      "\n",
      "\n",
      "  [[[[[0.05420498 0.03155466]\n",
      "      [0.78925414 0.36945838]]\n",
      "\n",
      "     [[0.7036378  0.55483516]\n",
      "      [0.85046162 0.60171713]]]\n",
      "\n",
      "\n",
      "    [[[0.08697695 0.58041   ]\n",
      "      [0.43289785 0.22013999]]\n",
      "\n",
      "     [[0.48942403 0.13815885]\n",
      "      [0.65461317 0.61983685]]]]\n",
      "\n",
      "\n",
      "\n",
      "   [[[[0.13007317 0.41610391]\n",
      "      [0.84607428 0.71599856]]\n",
      "\n",
      "     [[0.48265765 0.8988988 ]\n",
      "      [0.93843893 0.47980128]]]\n",
      "\n",
      "\n",
      "    [[[0.54900566 0.36113093]\n",
      "      [0.71621282 0.64346916]]\n",
      "\n",
      "     [[0.31040799 0.78079166]\n",
      "      [0.90518354 0.66198332]]]]]]\n",
      "\n",
      "\n",
      "\n",
      "\n",
      "\n",
      " [[[[[[0.05353782 0.68629834]\n",
      "      [0.16569259 0.83263699]]\n",
      "\n",
      "     [[0.88687496 0.05654889]\n",
      "      [0.74941047 0.4420894 ]]]\n",
      "\n",
      "\n",
      "    [[[0.17392327 0.42786383]\n",
      "      [0.88734302 0.46437974]]\n",
      "\n",
      "     [[0.81573179 0.16185106]\n",
      "      [0.59770338 0.14804959]]]]\n",
      "\n",
      "\n",
      "\n",
      "   [[[[0.98189201 0.07466031]\n",
      "      [0.15683616 0.86714245]]\n",
      "\n",
      "     [[0.04968177 0.07257949]\n",
      "      [0.4710786  0.31006037]]]\n",
      "\n",
      "\n",
      "    [[[0.63884357 0.75652435]\n",
      "      [0.83019952 0.62222656]]\n",
      "\n",
      "     [[0.15106749 0.48583387]\n",
      "      [0.1415546  0.99923942]]]]]\n",
      "\n",
      "\n",
      "\n",
      "\n",
      "  [[[[[0.60492449 0.60117617]\n",
      "      [0.02971763 0.33583203]]\n",
      "\n",
      "     [[0.312002   0.78214332]\n",
      "      [0.77317999 0.4345174 ]]]\n",
      "\n",
      "\n",
      "    [[[0.96598981 0.26324161]\n",
      "      [0.18649966 0.94514284]]\n",
      "\n",
      "     [[0.17487005 0.10043011]\n",
      "      [0.55555381 0.82365069]]]]\n",
      "\n",
      "\n",
      "\n",
      "   [[[[0.04296133 0.02009905]\n",
      "      [0.88596023 0.38485571]]\n",
      "\n",
      "     [[0.61836388 0.58469692]\n",
      "      [0.28931666 0.92537029]]]\n",
      "\n",
      "\n",
      "    [[[0.6966295  0.00254319]\n",
      "      [0.73688191 0.79103432]]\n",
      "\n",
      "     [[0.49138665 0.97481496]\n",
      "      [0.73472008 0.19723202]]]]]]]\n"
     ]
    },
    {
     "ename": "IndexError",
     "evalue": "index 2 is out of bounds for axis 2 with size 2",
     "output_type": "error",
     "traceback": [
      "\u001b[0;31m---------------------------------------------------------------------------\u001b[0m",
      "\u001b[0;31mIndexError\u001b[0m                                Traceback (most recent call last)",
      "\u001b[0;32m<ipython-input-21-505e924411cf>\u001b[0m in \u001b[0;36m<module>\u001b[0;34m()\u001b[0m\n\u001b[1;32m      1\u001b[0m \u001b[0md\u001b[0m \u001b[0;34m=\u001b[0m \u001b[0mnp\u001b[0m\u001b[0;34m.\u001b[0m\u001b[0mrandom\u001b[0m\u001b[0;34m.\u001b[0m\u001b[0mrand\u001b[0m\u001b[0;34m(\u001b[0m\u001b[0;36m2\u001b[0m\u001b[0;34m,\u001b[0m \u001b[0;36m2\u001b[0m\u001b[0;34m,\u001b[0m \u001b[0;36m2\u001b[0m\u001b[0;34m,\u001b[0m \u001b[0;36m2\u001b[0m\u001b[0;34m,\u001b[0m \u001b[0;36m2\u001b[0m\u001b[0;34m,\u001b[0m \u001b[0;36m2\u001b[0m\u001b[0;34m,\u001b[0m \u001b[0;36m2\u001b[0m\u001b[0;34m)\u001b[0m\u001b[0;34m\u001b[0m\u001b[0m\n\u001b[1;32m      2\u001b[0m \u001b[0mprint\u001b[0m\u001b[0;34m(\u001b[0m\u001b[0md\u001b[0m\u001b[0;34m)\u001b[0m\u001b[0;34m\u001b[0m\u001b[0m\n\u001b[0;32m----> 3\u001b[0;31m \u001b[0md\u001b[0m\u001b[0;34m[\u001b[0m\u001b[0;36m1\u001b[0m\u001b[0;34m,\u001b[0m\u001b[0;36m1\u001b[0m\u001b[0;34m,\u001b[0m\u001b[0;36m2\u001b[0m\u001b[0;34m,\u001b[0m\u001b[0;36m0\u001b[0m\u001b[0;34m]\u001b[0m\u001b[0;34m\u001b[0m\u001b[0m\n\u001b[0m",
      "\u001b[0;31mIndexError\u001b[0m: index 2 is out of bounds for axis 2 with size 2"
     ]
    }
   ],
   "source": [
    "d = np.random.rand(2, 2, 2, 2, 2, 2, 2)\n",
    "print(d)\n",
    "d[1,1,2,0]"
   ]
  },
  {
   "cell_type": "code",
   "execution_count": null,
   "metadata": {},
   "outputs": [],
   "source": []
  }
 ],
 "metadata": {
  "kernelspec": {
   "display_name": "Python 3",
   "language": "python",
   "name": "python3"
  },
  "language_info": {
   "codemirror_mode": {
    "name": "ipython",
    "version": 3
   },
   "file_extension": ".py",
   "mimetype": "text/x-python",
   "name": "python",
   "nbconvert_exporter": "python",
   "pygments_lexer": "ipython3",
   "version": "3.6.6"
  }
 },
 "nbformat": 4,
 "nbformat_minor": 2
}
