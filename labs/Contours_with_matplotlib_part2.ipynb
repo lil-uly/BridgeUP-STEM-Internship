{
 "cells": [
  {
   "cell_type": "markdown",
   "metadata": {},
   "source": [
    "# Contours with Matplotlib: Part II | March 26\n",
    "#### We've learned how to make contour plots with Matplotlib, but now it's time to move on to the next step: Accessing the data about our contours with Python.\n",
    "\n",
    "For example, what if we want to count the number of contour lines in our dataset or see how many contour lines are closed i.e. circular (a technique for determining how many eddies are present)? We will tackle this problem today."
   ]
  },
  {
   "cell_type": "markdown",
   "metadata": {},
   "source": [
    "Starting with the usual suspects: Import statements! Go ahead and load in the packages you used for the last couple of contour activities."
   ]
  },
  {
   "cell_type": "code",
   "execution_count": null,
   "metadata": {},
   "outputs": [],
   "source": [
    "#Import statements here\n"
   ]
  },
  {
   "cell_type": "markdown",
   "metadata": {},
   "source": [
    "We'll use the same X, Y and Z coordinates to create our contour map as last time. \n",
    "Chat with a partner to make sure you remember what each line is doing."
   ]
  },
  {
   "cell_type": "code",
   "execution_count": null,
   "metadata": {},
   "outputs": [],
   "source": [
    "xlist = np.linspace(-6.0, 6.0, 9)\n",
    "ylist = np.linspace(-6.0, 6.0, 11)\n",
    "X, Y = np.meshgrid(xlist, ylist)"
   ]
  },
  {
   "cell_type": "code",
   "execution_count": null,
   "metadata": {},
   "outputs": [],
   "source": [
    "def f(x, y):\n",
    "    return np.sqrt(x**2 + y**2)"
   ]
  },
  {
   "cell_type": "code",
   "execution_count": null,
   "metadata": {},
   "outputs": [],
   "source": [
    "Z = f(X,Y)"
   ]
  },
  {
   "cell_type": "markdown",
   "metadata": {},
   "source": [
    "Let's create our contour map. This time, we will save it as a variable called `contour_set`."
   ]
  },
  {
   "cell_type": "code",
   "execution_count": null,
   "metadata": {},
   "outputs": [],
   "source": [
    "contour_set = plt.contour(#fill in input)"
   ]
  },
  {
   "cell_type": "markdown",
   "metadata": {},
   "source": [
    "The contour variable is what Matplotlib calls a QuadContourSet. You can read more about it [here](https://matplotlib.org/api/contour_api.html#matplotlib.contour.QuadContourSet)."
   ]
  },
  {
   "cell_type": "markdown",
   "metadata": {},
   "source": [
    "## Learning more about our contour set"
   ]
  },
  {
   "cell_type": "code",
   "execution_count": null,
   "metadata": {},
   "outputs": [],
   "source": [
    "print(contour_set)  #Contour is a \"Quad Contour Set\". "
   ]
  },
  {
   "cell_type": "markdown",
   "metadata": {},
   "source": [
    "We can access the different contour levels used to build the contour plot with `contour_set.levels`. "
   ]
  },
  {
   "cell_type": "code",
   "execution_count": null,
   "metadata": {},
   "outputs": [],
   "source": [
    "#print out the different contour levels\n",
    "print(contour_set.levels)"
   ]
  },
  {
   "cell_type": "markdown",
   "metadata": {},
   "source": [
    "Remember that you can also manually change the levels that plt.contour uses, by including a list of levels as an argument. Try creating your own set of levels for this contour plot, with 1-unit spacings, and then remake the contour object."
   ]
  },
  {
   "cell_type": "code",
   "execution_count": null,
   "metadata": {},
   "outputs": [],
   "source": [
    "levels = #your input here"
   ]
  },
  {
   "cell_type": "code",
   "execution_count": null,
   "metadata": {},
   "outputs": [],
   "source": [
    "contour_set = plt.contour(X, Y, Z, levels = ?)"
   ]
  },
  {
   "cell_type": "code",
   "execution_count": null,
   "metadata": {},
   "outputs": [],
   "source": [
    "print(contour_set.levels)"
   ]
  },
  {
   "cell_type": "markdown",
   "metadata": {},
   "source": [
    "## How do we access our contour lines?"
   ]
  },
  {
   "cell_type": "markdown",
   "metadata": {},
   "source": [
    "In addition to the levels, we can also access the actual data about the contour lines. Each circle in the contour plot above is stored in what Matplotlib calls a \"LineCollection\" — basically a group of different lines. In this case, there are individual LineCollections for each contour level -- so the firstLineCollection corresponds to the contour level 0, and so on."
   ]
  },
  {
   "cell_type": "markdown",
   "metadata": {},
   "source": [
    "Here is a drawing to help you understand how these contours are organized. Don't worry too much about understanding the different layers — you will learn by working through the rest of this notebook.\n",
    "\n",
    "<img src=\"https://raw.githubusercontent.com/amnh/BridgeUP-STEM-Oceans-Six/master/photos/contours_collections.png?token=AmUbDgZ-zo_6OJ2Qyrwtz92LxiVjMFPZks5co5eKwA%3D%3D\" width=\"700\" />\n"
   ]
  },
  {
   "cell_type": "markdown",
   "metadata": {},
   "source": [
    "We can access all of the contour lines with `contour_set.collections`. This returns a set of different LineCollection objects — as many objects as there are contour levels. "
   ]
  },
  {
   "cell_type": "code",
   "execution_count": null,
   "metadata": {},
   "outputs": [],
   "source": [
    "#How to access\n",
    "print(contour_set.collections)"
   ]
  },
  {
   "cell_type": "markdown",
   "metadata": {},
   "source": [
    "**Check your understanding**: How many levels are there? How many objects are in `contour_set.collections`? What do the objects in `contour_set.collections` represent?"
   ]
  },
  {
   "cell_type": "markdown",
   "metadata": {},
   "source": [
    "### Write your answer here:\n"
   ]
  },
  {
   "cell_type": "code",
   "execution_count": null,
   "metadata": {},
   "outputs": [],
   "source": [
    "## Write any code you want here"
   ]
  },
  {
   "cell_type": "markdown",
   "metadata": {},
   "source": [
    "Each object/item in the LineCollections object contains all contour lines that have the same value. For example, the fourth item in contour_set.collections contains all contour lines with a value of `level[3]` (remember how funky counting is with indices?)"
   ]
  },
  {
   "cell_type": "code",
   "execution_count": null,
   "metadata": {},
   "outputs": [],
   "source": [
    "fourth_contour = contour_set.collections[3]\n",
    "print(fourth_contour)"
   ]
  },
  {
   "cell_type": "markdown",
   "metadata": {},
   "source": [
    "Within `fourth_contour`, there may be multiple contour lines. All of these contour lines share the same level value. \n",
    "\n",
    "Let's see how many are in this collection. Each contour is stored as a [Path in Matplotlib](https://matplotlib.org/api/path_api.html). To access them, we will use `fourth_contour.get_paths()`"
   ]
  },
  {
   "cell_type": "code",
   "execution_count": null,
   "metadata": {},
   "outputs": [],
   "source": [
    "fourth_contour_lines = fourth_contour.get_paths() #This is a list of contour lines\n",
    "len(fourth_contour_lines) #This tells us how many contour lines we have"
   ]
  },
  {
   "cell_type": "markdown",
   "metadata": {},
   "source": [
    "We have one contour line! \n",
    "**Check your understanding**: Does this make sense to you? How many contour lines would you expect to see based on your plot above?"
   ]
  },
  {
   "cell_type": "markdown",
   "metadata": {},
   "source": [
    "### Write your explanation here:"
   ]
  },
  {
   "cell_type": "markdown",
   "metadata": {},
   "source": [
    "We can extract the first one with `fourth_contour_lines[0]`"
   ]
  },
  {
   "cell_type": "code",
   "execution_count": null,
   "metadata": {},
   "outputs": [],
   "source": [
    "line = fourth_contour_lines[0]"
   ]
  },
  {
   "cell_type": "markdown",
   "metadata": {},
   "source": [
    "## What is a Path in Matplotlib?\n",
    "\n",
    "You won't need to worry about this too much, but Paths in Matplotlib are basically what they sound like — they store a collection of xy points that may make up a shape, such as a circle, a line or a contour! There are two arguments we need to pay attention to: `vertices` and `codes`."
   ]
  },
  {
   "cell_type": "code",
   "execution_count": null,
   "metadata": {},
   "outputs": [],
   "source": [
    "print(line)"
   ]
  },
  {
   "cell_type": "markdown",
   "metadata": {},
   "source": [
    "The `vertices` argument is just an array containing the x and y coordinates of each point in the path.\n",
    "The `code` argument may tell the computer how to draw the line or Path -- i.e., what order, and how to connect the points. In our case, `code` will always just be `None`"
   ]
  },
  {
   "cell_type": "markdown",
   "metadata": {},
   "source": [
    "To access the vertices, which are what we really care about, we will use the `.vertices` command."
   ]
  },
  {
   "cell_type": "code",
   "execution_count": null,
   "metadata": {},
   "outputs": [],
   "source": [
    "coords = line.vertices\n",
    "print(coords)"
   ]
  },
  {
   "cell_type": "markdown",
   "metadata": {},
   "source": [
    "Notice that this is an array, containing the x-coordinates of the contour on the left and y-coordinates on the right. We can plot them and compare to the original plot."
   ]
  },
  {
   "cell_type": "code",
   "execution_count": null,
   "metadata": {},
   "outputs": [],
   "source": [
    "plt.contour(X,Y,Z, levels = contour_set.levels)\n",
    "plt.scatter(coords[:,0], coords[:,1])"
   ]
  },
  {
   "cell_type": "markdown",
   "metadata": {},
   "source": [
    "## Congrats! You now know how to use Matplotlib to look at individual contour lines for a contour plot! This will be very useful for our eddy identification algorithm.\n",
    "\n",
    "### If you have finished this part, go to your labs folder and open up labs/matplotlib_contours_practice_part2.py and follow the instructions for more practice."
   ]
  }
 ],
 "metadata": {
  "kernelspec": {
   "display_name": "py36",
   "language": "python",
   "name": "py36"
  },
  "language_info": {
   "codemirror_mode": {
    "name": "ipython",
    "version": 3
   },
   "file_extension": ".py",
   "mimetype": "text/x-python",
   "name": "python",
   "nbconvert_exporter": "python",
   "pygments_lexer": "ipython3",
   "version": "3.6.8"
  }
 },
 "nbformat": 4,
 "nbformat_minor": 2
}
