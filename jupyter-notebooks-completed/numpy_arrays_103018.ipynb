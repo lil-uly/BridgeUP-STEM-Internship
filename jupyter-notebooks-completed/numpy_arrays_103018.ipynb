{
 "cells": [
  {
   "cell_type": "markdown",
   "metadata": {
    "deletable": true,
    "editable": true
   },
   "source": [
    "# Internship Session 10/30: What are numpy arrays?\n",
    "\n",
    "![image of sea animal :)](http://www.u2know.com/general-photos/articles/Baby_sea_lion_1.jpg)"
   ]
  },
  {
   "cell_type": "markdown",
   "metadata": {
    "deletable": true,
    "editable": true
   },
   "source": [
    "### Starting with 1D arrays\n",
    "![1D array](https://www.dyclassroom.com/image/topic/java/array/1d/1d-array.jpg)"
   ]
  },
  {
   "cell_type": "code",
   "execution_count": null,
   "metadata": {
    "collapsed": true,
    "deletable": true,
    "editable": true
   },
   "outputs": [],
   "source": [
    "import numpy as np\n",
    "a = np.array([1, 2, 3, 4, 5])\n",
    "print(a)\n",
    "a[2]\n",
    "a[:]"
   ]
  },
  {
   "cell_type": "code",
   "execution_count": null,
   "metadata": {},
   "outputs": [],
   "source": []
  },
  {
   "cell_type": "markdown",
   "metadata": {
    "deletable": true,
    "editable": true
   },
   "source": [
    "## What about 2D arrays?\n",
    "![2D array](https://www.oreilly.com/library/view/python-for-data/9781449323592/httpatomoreillycomsourceoreillyimages1346880.png)"
   ]
  },
  {
   "cell_type": "code",
   "execution_count": null,
   "metadata": {
    "collapsed": true,
    "deletable": true,
    "editable": true
   },
   "outputs": [],
   "source": [
    "b = np.array([[1, 2, 3, 4], [5, 6, 7, 8],[9, 10, 11, 12]])\n",
    "print(b)\n",
    "b[0, 1]\n",
    "b[2,3]\n",
    "b[:, 1]"
   ]
  },
  {
   "cell_type": "markdown",
   "metadata": {
    "deletable": true,
    "editable": true
   },
   "source": [
    "## And 3D arrays?\n",
    "![3D](https://www.oreilly.com/library/view/elegant-scipy/9781491922927/assets/elsp_0105.png)"
   ]
  },
  {
   "cell_type": "code",
   "execution_count": null,
   "metadata": {
    "collapsed": true,
    "deletable": true,
    "editable": true
   },
   "outputs": [],
   "source": [
    "c = np.arange(27).reshape(3,3,3)\n",
    "print(c)\n",
    "c[0,1,2]\n",
    "c[0,1,:]\n",
    "c[:,0,0]"
   ]
  },
  {
   "cell_type": "markdown",
   "metadata": {
    "deletable": true,
    "editable": true
   },
   "source": [
    "### Some general tips to select the appropriate part of the array:"
   ]
  },
  {
   "cell_type": "code",
   "execution_count": null,
   "metadata": {
    "collapsed": true,
    "deletable": true,
    "editable": true
   },
   "outputs": [],
   "source": [
    "# Remember, all arrays begin at the 0 index! So a[0] picks the first element, a[1] picks the *second*, and so on\n",
    "\n",
    "#1D arrays\n",
    "a[:] # This command selects everything\n",
    "a[2:5] # This commands selects the 2nd through the 4th rows (does not include the 5th row).\n",
    "    #The numbers inside the brackets can be changed to select whatever elements you want. \n",
    "\n",
    "    \n",
    "#2D arrays\n",
    "b[:,:] #This command selects all rows and all columns\n",
    "b[:,0] #This command selects all rows, and the zeroth column\n",
    "b[0,:] #This command selects the zeroth row, and all columns in that row\n",
    "b[0:2,:] #This column selects the zeroth and first row, but NOT the second. It includes all the columns in that row\n",
    "\n",
    "#3D arrays\n",
    "c[:,:,:] #This command selects everything.\n",
    "# Technically, the first dimension is known as the row, the second as column and the third as depth... \n",
    "#but I find that confusing. We'll call the first dimension the \"group,\" the second \"row,\" and third, \"column\" (as usual).\n",
    "c[0,:,:] #This command selects the 0th group, and all rows/columns in that group\n",
    "c[:,0,:] #This command selects the 0th row from every group\n",
    "c[:,:,0] #This command selects the 0th row from every group\n",
    "c.shape #Tells you the shape of your array. The first value is the size of the first dimension, and so on"
   ]
  }
 ],
 "metadata": {
  "kernelspec": {
   "display_name": "Python 3",
   "language": "python",
   "name": "python3"
  },
  "language_info": {
   "codemirror_mode": {
    "name": "ipython",
    "version": 3
   },
   "file_extension": ".py",
   "mimetype": "text/x-python",
   "name": "python",
   "nbconvert_exporter": "python",
   "pygments_lexer": "ipython3",
   "version": "3.5.2"
  }
 },
 "nbformat": 4,
 "nbformat_minor": 2
}
