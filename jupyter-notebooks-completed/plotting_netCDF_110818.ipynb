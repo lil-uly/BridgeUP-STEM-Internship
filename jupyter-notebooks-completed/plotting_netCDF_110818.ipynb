{
 "cells": [
  {
   "cell_type": "markdown",
   "metadata": {},
   "source": [
    "# Nov 8 | Plotting netCDF datasets: How to make pretty maps\n",
    "![image](https://cdn.zmescience.com/wp-content/uploads/2014/10/GRAVITY_map_ocean.jpg)\n",
    "\n",
    "Adapted from [these](http://joehamman.com/2013/10/12/plotting-netCDF-data-with-Python/) [tutorials](http://aosc.umd.edu/~cmartin/python/examples/netcdf_example1.html). They're both very useful but go into a little more detail than we need for now.\n",
    "The tools we're going to use are the **matplotlib**, **netCDF4**, **numpy** and **Basemap** tools.\n",
    "- **matplotlib**: This is a free tool that's used to make cool and beautiful plots, maps and other visuals. Here are some examples: <img src=\"https://upload.wikimedia.org/wikipedia/commons/c/ca/Mpl_screenshot_figures_and_code.png\" width=\"600\">\n",
    "- **netCDF4**: You've seen this package last week! We use it to access our data.\n",
    "- **numpy**: Again, an old friend (enemy?). Here, we'll use it to change or get data from arrays. \n",
    "- **Basemap**: This is a tool from matplotlib that lets us make cool maps easily! <img src=\"https://peak5390.files.wordpress.com/2012/12/screenshot-figure-1.png\" width = \"600\">\n",
    "\n",
    "## The basic steps to follow:\n",
    "- First, we will open our dataset, and find the latitude and longitude values. These will be our \"x-y axes\" for our map.\n",
    "- Then, we'll also find our sea-surface height data. These are our \"z\" values for our map.\n",
    "- Next, we will initialize a map using Basemap, and add in some details, like continents and colors\n",
    "- Finally, we will plot our data on our map"
   ]
  },
  {
   "cell_type": "markdown",
   "metadata": {},
   "source": [
    "### Start off by importing the libraries and tools we want"
   ]
  },
  {
   "cell_type": "code",
   "execution_count": null,
   "metadata": {},
   "outputs": [],
   "source": [
    "from netCDF4 import Dataset\n",
    "import numpy as np\n",
    "import matplotlib.pyplot as plt\n",
    "from mpl_toolkits.basemap import Basemap\n",
    "\n",
    "%matplotlib inline\n",
    "\n",
    "%config InlineBackend.close_figures=False # keep figures open and keep updating as we go"
   ]
  },
  {
   "cell_type": "markdown",
   "metadata": {},
   "source": [
    "## Next, we'll open our netCDF file using the Dataset function. \n",
    "The file we want to load in is called halloween.nc. You'll find it in your GitHub folder"
   ]
  },
  {
   "cell_type": "code",
   "execution_count": null,
   "metadata": {},
   "outputs": [],
   "source": [
    "dataset = Dataset(\"/Users/katyabbott/Documents/eddy/netCDF_practice.nc\")"
   ]
  },
  {
   "cell_type": "markdown",
   "metadata": {},
   "source": [
    "### Let's investigate this dataset a little more. First, we'll look at its attributes.\n",
    "Recall: **dataset.ncattrs()** will show us the names of the attributes."
   ]
  },
  {
   "cell_type": "code",
   "execution_count": null,
   "metadata": {},
   "outputs": [],
   "source": [
    "dataset.ncattrs()"
   ]
  },
  {
   "cell_type": "code",
   "execution_count": null,
   "metadata": {},
   "outputs": [],
   "source": [
    "print(dataset.description)\n",
    "print(dataset.history)\n",
    "print(dataset.source)"
   ]
  },
  {
   "cell_type": "markdown",
   "metadata": {},
   "source": [
    "### OK, nothing too interesting. What about the dimensions and variables?\n"
   ]
  },
  {
   "cell_type": "code",
   "execution_count": null,
   "metadata": {},
   "outputs": [],
   "source": [
    "#Dimensions\n",
    "print(dataset.dimensions.keys())"
   ]
  },
  {
   "cell_type": "code",
   "execution_count": null,
   "metadata": {},
   "outputs": [],
   "source": [
    "#Variables\n",
    "print(dataset.variables)"
   ]
  },
  {
   "cell_type": "markdown",
   "metadata": {},
   "source": [
    "So, it looks like our coordinate variables/dimensions are latitude and longitude. The main variable that we'll be plotting is height. Height is a function of latitude and longitude, and this is shown in the netCDF file. \n",
    "\n",
    "One of the great things about netCDF files is that they're ordered. This means that our data is stored in the same order every time, and always reflects rows and columns of latitude and longitude. Now, let's create new variables in Python that contain our latitude, longitude and height values."
   ]
  },
  {
   "cell_type": "code",
   "execution_count": null,
   "metadata": {},
   "outputs": [],
   "source": [
    "lat = dataset.variables['lat'][:]\n",
    "lon = dataset.variables['lon'][:]\n",
    "height = dataset.variables['height'][:]"
   ]
  },
  {
   "cell_type": "markdown",
   "metadata": {},
   "source": [
    "If we want to see what this data looks like, we can do so."
   ]
  },
  {
   "cell_type": "code",
   "execution_count": null,
   "metadata": {},
   "outputs": [],
   "source": [
    "print(\"lat = \", lat)"
   ]
  },
  {
   "cell_type": "markdown",
   "metadata": {},
   "source": [
    "What is our range of latitude values? What is the minimum? What is the maximum? We can figure these out by looking at the array, but we can also use numpy."
   ]
  },
  {
   "cell_type": "code",
   "execution_count": null,
   "metadata": {},
   "outputs": [],
   "source": [
    "latmin = np.min(lat)\n",
    "latmax = np.max(lat)\n",
    "latmean = np.mean(lat)"
   ]
  },
  {
   "cell_type": "code",
   "execution_count": null,
   "metadata": {},
   "outputs": [],
   "source": [
    "print(\"lon = \", lon)"
   ]
  },
  {
   "cell_type": "markdown",
   "metadata": {},
   "source": [
    "What is our range of longitude values? What is the minimum? What is the maximum? What is the man?"
   ]
  },
  {
   "cell_type": "code",
   "execution_count": null,
   "metadata": {},
   "outputs": [],
   "source": [
    "lonmin = np.min(lon)\n",
    "lonmax = np.max(lon)\n",
    "lonmean = np.mean(lon)"
   ]
  },
  {
   "cell_type": "code",
   "execution_count": null,
   "metadata": {},
   "outputs": [],
   "source": [
    "print(\"height = \",height)"
   ]
  },
  {
   "cell_type": "markdown",
   "metadata": {},
   "source": [
    "What is our range of height values? What is the minimum? What is the maximum? "
   ]
  },
  {
   "cell_type": "markdown",
   "metadata": {},
   "source": [
    "Now that we know what our range of latitude and longitude values is, we can use those to create a map. We call it a Basemap, because it's the base map, containing states/countries/coastlines etc., that we'll put our data onto.\n",
    "\n",
    "We call it with the following command:"
   ]
  },
  {
   "cell_type": "code",
   "execution_count": null,
   "metadata": {},
   "outputs": [],
   "source": [
    "map = Basemap(width = 5000000, height = 3500000, resolution = 'c', projection = 'stere', lat_0 = latmean, lon_0 = lonmean)"
   ]
  },
  {
   "cell_type": "markdown",
   "metadata": {},
   "source": [
    "Think about what each one of these commands might signify. For example, what might the resolution refer to? Or lat_0 and lon_0?\n",
    "\n",
    "Next, we'll add some features to this map, like the coastlines and countries. Using our \"map\" object, we'll call on a number of commands."
   ]
  },
  {
   "cell_type": "code",
   "execution_count": null,
   "metadata": {},
   "outputs": [],
   "source": [
    "map.drawcoastlines()\n",
    "map.drawcountries()\n",
    "map.fillcontinents(color='coral',lake_color='aqua')  #We can change these colors if we want to!\n",
    "# https://matplotlib.org/examples/color/named_colors.html\n",
    "map.drawstates()\n",
    "print(\"done\")"
   ]
  },
  {
   "cell_type": "markdown",
   "metadata": {},
   "source": [
    "We can also add lat/lon grid lines, such as parallels and meridians.\n",
    "We might want our parallel latitude lines to cover from 80 degrees South to 80 degrees North, and have 10 degree spacing."
   ]
  },
  {
   "cell_type": "code",
   "execution_count": null,
   "metadata": {},
   "outputs": [],
   "source": [
    "parallels = np.arange(-80,81,10) # This creates a numpy array from -80 to 80, with a spacing of 10 degrees\n",
    "print(parallels)"
   ]
  },
  {
   "cell_type": "markdown",
   "metadata": {},
   "source": [
    "We might want our meridian latitude lines to cover from 180 degrees West to 180 degrees East, and have 10 degree spacing."
   ]
  },
  {
   "cell_type": "code",
   "execution_count": null,
   "metadata": {},
   "outputs": [],
   "source": [
    "meridians = np.arange(-180, 181, 10)"
   ]
  },
  {
   "cell_type": "code",
   "execution_count": null,
   "metadata": {},
   "outputs": [],
   "source": [
    "map.drawparallels(parallels, labels = [1,0,0,0], fontsize=10) #These last two commands just specify \n",
    "    #where to place the degree labels\n",
    "map.drawmeridians(meridians, labels = [0, 0, 0, 1], fontsize = 10)"
   ]
  },
  {
   "cell_type": "markdown",
   "metadata": {},
   "source": [
    "A weird quirk of our map is that it doesn't actually plot with latitude and longitude coordinates. Instead, it has its own \"map coordinates,\" and we have to apply a transform to change our coordinates to this new system. In addition, our latitude and longitude variables are 1D, so we'll use a function called meshgrid to make them into a 2D grid."
   ]
  },
  {
   "cell_type": "code",
   "execution_count": null,
   "metadata": {},
   "outputs": [],
   "source": [
    "lons, lats = np.meshgrid(lon,lat) \n",
    "x, y = map(lons, lats)\n",
    "print(x,y)"
   ]
  },
  {
   "cell_type": "markdown",
   "metadata": {},
   "source": [
    "OK, **now** we can actually start putting our data on the map. To do this, we use a function of the Basemap called pcolor, that plots our data and lets us specify the color.\n",
    "We can use the default color scheme, or we can change it using the cmap (colormap) function. In this case, I'm going to map everything in gray."
   ]
  },
  {
   "cell_type": "code",
   "execution_count": null,
   "metadata": {},
   "outputs": [],
   "source": [
    "cs = map.pcolor(x,y,np.squeeze(height))"
   ]
  },
  {
   "cell_type": "markdown",
   "metadata": {},
   "source": [
    "We can also give this map a title and add a colorbar."
   ]
  },
  {
   "cell_type": "code",
   "execution_count": null,
   "metadata": {},
   "outputs": [],
   "source": [
    "plt.title(\"Plot of netCDF data\")\n",
    "map.colorbar(cs, location = 'bottom', pad = \"10%\")\n",
    "plt.show()"
   ]
  },
  {
   "cell_type": "code",
   "execution_count": null,
   "metadata": {},
   "outputs": [],
   "source": [
    "dataset.close()"
   ]
  },
  {
   "cell_type": "code",
   "execution_count": null,
   "metadata": {},
   "outputs": [],
   "source": []
  }
 ],
 "metadata": {
  "kernelspec": {
   "display_name": "Python 3",
   "language": "python",
   "name": "python3"
  },
  "language_info": {
   "codemirror_mode": {
    "name": "ipython",
    "version": 3
   },
   "file_extension": ".py",
   "mimetype": "text/x-python",
   "name": "python",
   "nbconvert_exporter": "python",
   "pygments_lexer": "ipython3",
   "version": "3.6.6"
  }
 },
 "nbformat": 4,
 "nbformat_minor": 2
}
