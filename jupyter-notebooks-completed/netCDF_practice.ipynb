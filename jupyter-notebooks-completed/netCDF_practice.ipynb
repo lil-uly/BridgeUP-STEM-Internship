{
 "cells": [
  {
   "cell_type": "markdown",
   "metadata": {},
   "source": [
    "# Nov. 1 | Exploring netCDFs: The earth scientist's favorite file format\n",
    "![netcdf imnage](http://desktop.arcgis.com/en/arcmap/10.3/manage-data/netcdf/GUID-D872A4C3-749E-4159-A6C0-FB6D3B47C5D8-web.gif)"
   ]
  },
  {
   "cell_type": "markdown",
   "metadata": {},
   "source": [
    "What are netCDF files? The acronym stands for Network Common Data Form, and they're a way of formatting data that makes it easy for other scientists to share and read data on different computers, with different operating systems, with different software etc... without running into issues or struggling to understand someone else's work. \n",
    "\n",
    "netCDF files are in what we call an array-oriented dataset. Data is stored in arrays, which are like grids, and can be accessed by selecting the appropriate row and column. Here's an example of a 2D array:\n",
    "![2-D array](https://www.dyclassroom.com/image/topic/c/2d-array/2d-array.jpg)\n",
    "\n",
    "With netCDF files, our rows, columns, and other indices are called dimensions, and they can take values such as latitude, longitude and time. <img src=\"https://simulatingcomplexity.files.wordpress.com/2014/11/netcdf-file-structure.png\" width=\"400\">"
   ]
  },
  {
   "cell_type": "markdown",
   "metadata": {},
   "source": [
    "Let's try to explore this file format with an actual file. Make sure you have the file sea_surface_temp.nc in your GitHub repository. This is a dataset of sea-surface temperatures, collected for the Intergovernmental Panel on Climate Change. Our first step is to import netCDF4.Dataset, one of the main tools we use for viewing netCDF files."
   ]
  },
  {
   "cell_type": "code",
   "execution_count": 1,
   "metadata": {},
   "outputs": [
    {
     "ename": "FileNotFoundError",
     "evalue": "[Errno 2] No such file or directory: b'sea_surface_temp.nc'",
     "output_type": "error",
     "traceback": [
      "\u001b[0;31m---------------------------------------------------------------------------\u001b[0m",
      "\u001b[0;31mFileNotFoundError\u001b[0m                         Traceback (most recent call last)",
      "\u001b[0;32m<ipython-input-1-ae0cc250125e>\u001b[0m in \u001b[0;36m<module>\u001b[0;34m()\u001b[0m\n\u001b[1;32m      1\u001b[0m \u001b[0;32mfrom\u001b[0m \u001b[0mnetCDF4\u001b[0m \u001b[0;32mimport\u001b[0m \u001b[0mDataset\u001b[0m \u001b[0;31m#import Dataset from the netCDF4 package\u001b[0m\u001b[0;34m\u001b[0m\u001b[0m\n\u001b[0;32m----> 2\u001b[0;31m \u001b[0mdataset\u001b[0m \u001b[0;34m=\u001b[0m \u001b[0mDataset\u001b[0m\u001b[0;34m(\u001b[0m\u001b[0;34m'sea_surface_temp.nc'\u001b[0m\u001b[0;34m,\u001b[0m \u001b[0;34m'r'\u001b[0m\u001b[0;34m)\u001b[0m  \u001b[0;31m#This opens the dataset as a read-only file (so no changes can be made)\u001b[0m\u001b[0;34m\u001b[0m\u001b[0m\n\u001b[0m\u001b[1;32m      3\u001b[0m \u001b[0;31m## The two netCDF extensions used are .nc and .cdf\u001b[0m\u001b[0;34m\u001b[0m\u001b[0;34m\u001b[0m\u001b[0m\n",
      "\u001b[0;32mnetCDF4/_netCDF4.pyx\u001b[0m in \u001b[0;36mnetCDF4._netCDF4.Dataset.__init__\u001b[0;34m()\u001b[0m\n",
      "\u001b[0;32mnetCDF4/_netCDF4.pyx\u001b[0m in \u001b[0;36mnetCDF4._netCDF4._ensure_nc_success\u001b[0;34m()\u001b[0m\n",
      "\u001b[0;31mFileNotFoundError\u001b[0m: [Errno 2] No such file or directory: b'sea_surface_temp.nc'"
     ]
    }
   ],
   "source": [
    "from netCDF4 import Dataset #import Dataset from the netCDF4 package\n",
    "dataset = Dataset('sea_surface_temp.nc', 'r')  #This opens the dataset as a read-only file (so no changes can be made)\n",
    "## The two netCDF extensions used are .nc and .cdf"
   ]
  },
  {
   "cell_type": "code",
   "execution_count": null,
   "metadata": {},
   "outputs": [],
   "source": [
    "print(dataset) #What output do you see when you run this command?"
   ]
  },
  {
   "cell_type": "markdown",
   "metadata": {},
   "source": [
    "Note that we've now created an object, called dataset, that we can use to access different aspects of the file. We'll use the dot notation (i.e. dataset.blahblahblah) to access different parts of the data.\n",
    "\n",
    "Let's find out more about this dataset. We'll look at the \"metadata,\" which is basically data about the data. Scientists use this to explain how the data was acquired or made, how old it is, who to contact with questions etc.\n",
    "First, we'll look at the dataset's \"global attributes,\" which can be accessed by calling ncattrs (shorthand for <b>n</b>et<b>c</b>df **attr**ibutes). "
   ]
  },
  {
   "cell_type": "code",
   "execution_count": null,
   "metadata": {},
   "outputs": [],
   "source": [
    "dataset.ncattrs()\n"
   ]
  },
  {
   "cell_type": "markdown",
   "metadata": {},
   "source": [
    "To look at one of these, type in the name of the dataset variable, and add a period (.) and the name of the attribute you want to look at."
   ]
  },
  {
   "cell_type": "code",
   "execution_count": null,
   "metadata": {},
   "outputs": [],
   "source": [
    "print(dataset.title)\n",
    "print(dataset.contact)\n",
    "print(dataset.experiment_id)"
   ]
  },
  {
   "cell_type": "markdown",
   "metadata": {},
   "source": [
    "You can access the dimensions of the dataset by calling **dataset.dimensions**. Notice that the output is a dictionary. We can see the \"keys,\" or dimension names, with **dataset.dimensions.keys()**"
   ]
  },
  {
   "cell_type": "code",
   "execution_count": null,
   "metadata": {},
   "outputs": [],
   "source": [
    "print(dataset.dimensions)\n",
    "print(dataset.dimensions.keys())"
   ]
  },
  {
   "cell_type": "markdown",
   "metadata": {},
   "source": [
    "If you want to see a specific dimension, you can do so by adding brackets and the dimension name in quotes. i.e. **dataset.dimensions['lat']**"
   ]
  },
  {
   "cell_type": "code",
   "execution_count": null,
   "metadata": {},
   "outputs": [],
   "source": [
    "print(dataset.dimensions['time'])"
   ]
  },
  {
   "cell_type": "markdown",
   "metadata": {},
   "source": [
    "Now that you know the dimensions of this file, try to draw a sketch, like the images at the start of this Jupyter notebook, that show the possible dimensions and how they relate to each other. Don't worry about \"bnds\" for now."
   ]
  },
  {
   "cell_type": "markdown",
   "metadata": {},
   "source": [
    "We can also access the variables of our dataset by typing **dataset.variables**"
   ]
  },
  {
   "cell_type": "code",
   "execution_count": null,
   "metadata": {},
   "outputs": [],
   "source": [
    "print(dataset.variables, \"\\n \\n\")  #\"\\n\" creates a new empty line so you can separate your output\n",
    "\n",
    "print(dataset.variables.keys())"
   ]
  },
  {
   "cell_type": "markdown",
   "metadata": {},
   "source": [
    "These variables have a lot more information, right? Let's look at just one variable: tos. Inspect it by typing **dataset.variables['tos']**"
   ]
  },
  {
   "cell_type": "code",
   "execution_count": null,
   "metadata": {},
   "outputs": [],
   "source": [
    "dataset.variables['tos']"
   ]
  },
  {
   "cell_type": "markdown",
   "metadata": {},
   "source": [
    "How many different attributes can you identify? (standard_name, long_name, cell_methods, \\_FillValue, missing_value, original_name, original_units, history, current shape). Look at the second line. It gives the name of the variable, and it also lists three names in parentheses after it. What do you think those names signify?"
   ]
  },
  {
   "cell_type": "markdown",
   "metadata": {},
   "source": [
    "We can access any one of these attributes by calling it directly. Just add a period at the end of your call to a variable and add in the attribute name."
   ]
  },
  {
   "cell_type": "code",
   "execution_count": null,
   "metadata": {},
   "outputs": [],
   "source": [
    "print(dataset.variables['tos'].units)\n",
    "print(dataset.variables['tos'].history)"
   ]
  },
  {
   "cell_type": "markdown",
   "metadata": {},
   "source": [
    "To see all of the attributes of this variable, we can write the following in Python:"
   ]
  },
  {
   "cell_type": "code",
   "execution_count": null,
   "metadata": {},
   "outputs": [],
   "source": [
    "for attr in dataset.variables['tos'].ncattrs(): #ncattrs is a shorthand way of saying the attributes of a netCDF file\n",
    "    print(attr)\n",
    "    print(getattr(dataset.variables['tos'], attr))  #getattr is a function that takes a variable and an attribute name and returns its value"
   ]
  },
  {
   "cell_type": "markdown",
   "metadata": {},
   "source": [
    "You may be wondering: Where's the actual data?? So far, we've learning about what variables and dimensions are in this dataset, but we haven't actually seen any numbers or values. \n",
    "\n",
    "Let's look at the latitude and longitude values. To do so, you'll call on a variable (i.e. dataset.variables['tos'], as above), but you'll add [:] after it to tell the computer that you want to see the numpy array. "
   ]
  },
  {
   "cell_type": "code",
   "execution_count": null,
   "metadata": {},
   "outputs": [],
   "source": [
    "print(\"Latitude: \", dataset.variables['lat'][:], \"\\n\") #print the latitude values, and then add a line break to distinguish from longitude\n",
    "print(\"Longitude: \", dataset.variables['lon'][:])"
   ]
  },
  {
   "cell_type": "markdown",
   "metadata": {},
   "source": [
    "What about the sea-surface temperature values (i.e., the actual \"data\"?)"
   ]
  },
  {
   "cell_type": "code",
   "execution_count": null,
   "metadata": {},
   "outputs": [],
   "source": [
    "print(dataset.variables['tos'])\n",
    "print(dataset.variables['tos'][:].shape)\n",
    "dataset.variables['tos'][:,50,:]"
   ]
  },
  {
   "cell_type": "markdown",
   "metadata": {},
   "source": [
    "## 👉netCDF file cheat sheet👈\n",
    "[This tutorial](http://www.ceda.ac.uk/static/media/uploads/ncas-reading-2015/10_read_netcdf_python.pdf) was written in Python 2.7, so the print command is slightly different, but it's a helpful read to understand how these files work."
   ]
  },
  {
   "cell_type": "markdown",
   "metadata": {},
   "source": [
    "Addditionally: \n",
    "1. Import the tools to open a dataset: **from netCDF4 import Dataset**\n",
    "2. Open a dataset: **dataset = Dataset('filename.nc')**\n",
    "3. View the dataset's attributes: **dataset.ncattrs()**\n",
    "4. Access a specific attribute: **dataset.attribute_name**\n",
    "5. View the dataset's dimensions: **dataset.dimensions**\n",
    "6. View a specific dimension: **dataset.dimensions[ 'name of dimension' ]**\n",
    "7. View the dataset's variables: **dataset.variables**\n",
    "8. View a specific variable: **dataset.variables[ 'name of variable' ]**\n",
    "9. See a variable's values: **dataset.variables[ 'name of variable' ][ : ]**"
   ]
  },
  {
   "cell_type": "code",
   "execution_count": null,
   "metadata": {},
   "outputs": [],
   "source": []
  }
 ],
 "metadata": {
  "kernelspec": {
   "display_name": "Python 3",
   "language": "python",
   "name": "python3"
  },
  "language_info": {
   "codemirror_mode": {
    "name": "ipython",
    "version": 3
   },
   "file_extension": ".py",
   "mimetype": "text/x-python",
   "name": "python",
   "nbconvert_exporter": "python",
   "pygments_lexer": "ipython3",
   "version": "3.6.4"
  }
 },
 "nbformat": 4,
 "nbformat_minor": 2
}
