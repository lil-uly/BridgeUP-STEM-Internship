{
 "cells": [
  {
   "cell_type": "markdown",
   "metadata": {
    "deletable": true,
    "editable": true
   },
   "source": [
    "# Oct. 18: Ocean's Six Internship Session\n",
    "![Image of sea lion pup](https://i.imgur.com/iZiZ05V.png)"
   ]
  },
  {
   "cell_type": "markdown",
   "metadata": {
    "deletable": true,
    "editable": true
   },
   "source": [
    "## What are list comprehensions?\n",
    "List comprehensions are a way to create new lists quickly in Python, with only one line of code.\n",
    "\n",
    "Imagine I have a list, a, with the numbers 1 through 4. \n",
    "\n",
    "More testing."
   ]
  },
  {
   "cell_type": "code",
   "execution_count": 2,
   "metadata": {
    "collapsed": true,
    "deletable": true,
    "editable": true
   },
   "outputs": [],
   "source": [
    "a = [1, 2, 3, 4]"
   ]
  },
  {
   "cell_type": "markdown",
   "metadata": {
    "deletable": true,
    "editable": true
   },
   "source": [
    "I want to create a list, b, with the same elements as a. I could write b = a,  but this can have unexpected results in Python. Look at the following lines of code, and see what happens."
   ]
  },
  {
   "cell_type": "code",
   "execution_count": 3,
   "metadata": {
    "collapsed": false,
    "deletable": true,
    "editable": true
   },
   "outputs": [
    {
     "name": "stdout",
     "output_type": "stream",
     "text": [
      "[1, 2, 3, 4]\n",
      "[1, 2, 1, 4]\n"
     ]
    }
   ],
   "source": [
    "b = a  #I create a new list, b, that is equal to a.\n",
    "print(b)\n",
    "a[2] = 1 #I replace the third element of a with the value 1. Note that I am not changing the values of b\n",
    "print(b) #What happens to b?"
   ]
  },
  {
   "cell_type": "markdown",
   "metadata": {
    "deletable": true,
    "editable": true
   },
   "source": [
    "One way to avoid changing the value of both lists is to use something called [list comprehensions](https://www.pythonforbeginners.com/basics/list-comprehensions-in-python). This is a way of creating a new list that takes elements from other lists. It's actually similar to writing a for loop, but you only have to write one line of code.\n",
    "\n",
    "The basic structure of list comprehension looks like this. If **a** is our old list (a = [1, 2, 3, 4]),\n",
    "\n",
    "**new_list** = [**value** for **value** in **a**]. \n",
    "\n",
    "This tells the computer, for every **value** in **a**, put that **value** into the list.\n",
    "Like for loops, we can replace the word **value** with any word or phrase or variable we'd like.\n",
    "\n",
    "This structure is nearly identical to this for loop:"
   ]
  },
  {
   "cell_type": "code",
   "execution_count": null,
   "metadata": {
    "collapsed": true,
    "deletable": true,
    "editable": true
   },
   "outputs": [],
   "source": [
    "#Using a for loop:\n",
    "new_list = []\n",
    "for value in a:\n",
    "    new_list.append(value)\n",
    "print(new_list)\n",
    "\n",
    "#Using a list comprehension\n",
    "new_list = [value for value in a]\n",
    "print(new_list)\n"
   ]
  },
  {
   "cell_type": "markdown",
   "metadata": {
    "deletable": true,
    "editable": true
   },
   "source": [
    "In a list comprehension, the \"for blank in blank\" comes last, and the value you want comes first. \n",
    "\n",
    "i.e., [**value** (for **value** in **a**)]\n",
    "\n",
    "I put parentheses around the normal \"for loop\" statement to help you remember what each \"value\" refers to."
   ]
  },
  {
   "cell_type": "code",
   "execution_count": null,
   "metadata": {
    "collapsed": true,
    "deletable": true,
    "editable": true
   },
   "outputs": [],
   "source": [
    "# examples\n",
    "a = [1, 2, 3, 4]\n",
    "b = [value for value in a]\n",
    "c = [x for x in a]\n",
    "print(b)\n",
    "print(c)"
   ]
  },
  {
   "cell_type": "markdown",
   "metadata": {
    "deletable": true,
    "editable": true
   },
   "source": [
    "We can also change the values from one list to another, just like we can in a for loop."
   ]
  },
  {
   "cell_type": "code",
   "execution_count": null,
   "metadata": {
    "collapsed": true,
    "deletable": true,
    "editable": true
   },
   "outputs": [],
   "source": [
    "#Example1\n",
    "#Using a for loop\n",
    "d = []\n",
    "a = [1, 2, 3, 4]\n",
    "for number in a:\n",
    "    d.append(2*number)\n",
    "print(d)  \n",
    "\n",
    "#using list comprehensions\n",
    "d = [2*number for number in a]\n",
    "print(d)\n"
   ]
  },
  {
   "cell_type": "markdown",
   "metadata": {
    "deletable": true,
    "editable": true
   },
   "source": [
    "Written as a for loop, the above scripts would look like this:"
   ]
  },
  {
   "cell_type": "code",
   "execution_count": null,
   "metadata": {
    "collapsed": true,
    "deletable": true,
    "editable": true
   },
   "outputs": [],
   "source": [
    "#Example2\n",
    "#Using a for loop\n",
    "e = []\n",
    "a = [1, 2, 3, 4]\n",
    "\n",
    "for number in a:\n",
    "    e.append(1) #Add 1, rather than adding the number that is in a\n",
    "\n",
    "print(e)\n",
    "\n",
    "#Using list comprehensions\n",
    "e = [1 for number in a]\n",
    "print(e)"
   ]
  },
  {
   "cell_type": "markdown",
   "metadata": {
    "deletable": true,
    "editable": true
   },
   "source": [
    "And, we can also use if statements to exclude certain values from our new lists."
   ]
  },
  {
   "cell_type": "code",
   "execution_count": null,
   "metadata": {
    "collapsed": true,
    "deletable": true,
    "editable": true
   },
   "outputs": [],
   "source": [
    "#Example3\n",
    "#Using a for loop\n",
    "f = []\n",
    "a = [1, 2, 3, 4]\n",
    "\n",
    "for number in a:\n",
    "    if number <=3:\n",
    "        f.append(number*2)\n",
    "print(f)\n",
    "\n",
    "#Using list comprehensions\n",
    "f = [2*number for number in a if number <=3]\n",
    "print(f)"
   ]
  },
  {
   "cell_type": "markdown",
   "metadata": {
    "deletable": true,
    "editable": true
   },
   "source": [
    "The above statement tells the computer to run through all the values in our list a. If the value is less than or equal to 3, the computer will multiply that value by two and add it to the new list. Otherwise, it will do nothing.\n",
    "\n",
    "Now, why don't you practice writing your own list comprehensions? If you get stuck, try writing your solution as a for loop first."
   ]
  },
  {
   "cell_type": "markdown",
   "metadata": {
    "deletable": true,
    "editable": true
   },
   "source": [
    "### 1. Multiples of three\n",
    "With the list **three** below, create a new list with the elements of **three**, multiplied by 3."
   ]
  },
  {
   "cell_type": "code",
   "execution_count": null,
   "metadata": {
    "collapsed": true,
    "deletable": true,
    "editable": true
   },
   "outputs": [],
   "source": [
    "three = [4, 6, 8, -2, 10]\n"
   ]
  },
  {
   "cell_type": "markdown",
   "metadata": {
    "deletable": true,
    "editable": true
   },
   "source": [
    "### 2. Only even and squares\n",
    "With **even**, the list below, create a new list with only the even elements of **even**. \n",
    "Next, create a new list that takes only the even elements of **even** and raises them to the second power (squares them)"
   ]
  },
  {
   "cell_type": "code",
   "execution_count": null,
   "metadata": {
    "collapsed": true,
    "deletable": true,
    "editable": true
   },
   "outputs": [],
   "source": [
    "even = [1, 4, 9, 16, 25, 36, 49, 64, 81, 100]\n"
   ]
  },
  {
   "cell_type": "markdown",
   "metadata": {
    "deletable": true,
    "editable": true
   },
   "source": [
    "## Review of datasets and graphs\n",
    "Download the file called \"FavoriteNumbers.csv\" from the GitHub repository. These are the favorite numbers between 1 and 10 of everyone in #oceans_six. Remember how to load files using pandas? Recall that you can show the first few rows by using the .head() command.\n"
   ]
  },
  {
   "cell_type": "code",
   "execution_count": null,
   "metadata": {
    "collapsed": true,
    "deletable": true,
    "editable": true
   },
   "outputs": [],
   "source": [
    "import pandas as pd\n",
    "df = pd.read_csv(\"FavoriteNumbers.csv\")\n",
    "df.head()"
   ]
  },
  {
   "cell_type": "markdown",
   "metadata": {
    "deletable": true,
    "editable": true
   },
   "source": [
    "Try to calculate the mean, median and standard deviation of this dataset. You may have to use numpy for this. "
   ]
  },
  {
   "cell_type": "code",
   "execution_count": null,
   "metadata": {
    "collapsed": true,
    "deletable": true,
    "editable": true
   },
   "outputs": [],
   "source": [
    "import numpy as np\n"
   ]
  },
  {
   "cell_type": "markdown",
   "metadata": {
    "deletable": true,
    "editable": true
   },
   "source": [
    "Now, can you make a [histogram](https://en.wikipedia.org/wiki/Histogram) to show the most commonly picked numbers? You will have to import a new package, matplotlib.pyplot, to do this. This package has its own built-in bar graph function: try running **matplotlib.pyplot.bar**([list1], [list2]). List1 should contain the possible number options, and list2 should contain their frequency (how often they were picked)."
   ]
  },
  {
   "cell_type": "code",
   "execution_count": null,
   "metadata": {
    "collapsed": true,
    "deletable": true,
    "editable": true
   },
   "outputs": [],
   "source": [
    "import matplotlib.pyplot as plt\n"
   ]
  }
 ],
 "metadata": {
  "kernelspec": {
   "display_name": "Python 3",
   "language": "python",
   "name": "python3"
  },
  "language_info": {
   "codemirror_mode": {
    "name": "ipython",
    "version": 3
   },
   "file_extension": ".py",
   "mimetype": "text/x-python",
   "name": "python",
   "nbconvert_exporter": "python",
   "pygments_lexer": "ipython3",
   "version": "3.6.4"
  }
 },
 "nbformat": 4,
 "nbformat_minor": 2
}
