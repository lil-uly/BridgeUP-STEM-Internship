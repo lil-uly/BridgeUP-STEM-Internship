{
 "cells": [
  {
   "cell_type": "markdown",
   "metadata": {
    "deletable": true,
    "editable": true
   },
   "source": [
    "# Internship Session 11/1: numpy arrays refresher\n",
    "![sea turtle!](https://kids.nationalgeographic.com/content/dam/kids/photos/animals/Reptiles/A-G/green-sea-turtle-closeup-underwater.adapt.945.1.jpg)"
   ]
  },
  {
   "cell_type": "markdown",
   "metadata": {
    "deletable": true,
    "editable": true
   },
   "source": [
    "### Exercises 1 & 2\n",
    "1. In the array below, how can you select the element '222'? What command is required? What about the element '11'\n",
    "2. In the array below, how can you select the second row? What about the third column? (Assume that the first row means index 0, and so on)"
   ]
  },
  {
   "cell_type": "code",
   "execution_count": 13,
   "metadata": {
    "collapsed": false,
    "deletable": true,
    "editable": true
   },
   "outputs": [
    {
     "name": "stdout",
     "output_type": "stream",
     "text": [
      "[[  1   2  10  11]\n",
      " [  2   3   7   9]\n",
      " [222   1   3  14]\n",
      " [100 101 223  17]]\n",
      "222\n",
      "[2 3 7 9]\n",
      "[ 10   7   3 223]\n"
     ]
    }
   ],
   "source": [
    "import numpy as np\n",
    "a = np.array([[1, 2, 10, 11], [2, 3, 7, 9], [222, 1,3, 14], [100, 101, 223, 17]])\n",
    "print(a)\n",
    "print(a[2,0])\n",
    "print(a[1])\n",
    "print(a[:,2])\n",
    "\n",
    "#a[#what goes here?]"
   ]
  },
  {
   "cell_type": "markdown",
   "metadata": {
    "deletable": true,
    "editable": true
   },
   "source": [
    "### Exercise 3\n",
    "3. In the array below, how can you select the element '19'? What about the element '28'?"
   ]
  },
  {
   "cell_type": "code",
   "execution_count": 12,
   "metadata": {
    "collapsed": false,
    "deletable": true,
    "editable": true
   },
   "outputs": [
    {
     "name": "stdout",
     "output_type": "stream",
     "text": [
      "[[[ 0  1  2  3]\n",
      "  [ 4  5  6  7]]\n",
      "\n",
      " [[ 8  9 10 11]\n",
      "  [12 13 14 15]]\n",
      "\n",
      " [[16 17 18 19]\n",
      "  [20 21 22 23]]\n",
      "\n",
      " [[24 25 26 27]\n",
      "  [28 29 30 31]]]\n",
      "222\n"
     ]
    }
   ],
   "source": [
    "b = np.arange(32).reshape(4,2,4)\n",
    "print(b)\n",
    "print(a[2,0])"
   ]
  },
  {
   "cell_type": "markdown",
   "metadata": {
    "deletable": true,
    "editable": true
   },
   "source": [
    "### Challenges\n",
    "In the array below, how can you select the first row in the second group? What about all elements in the first group? What about all elements in the second column?"
   ]
  },
  {
   "cell_type": "code",
   "execution_count": 15,
   "metadata": {
    "collapsed": false,
    "deletable": true,
    "editable": true
   },
   "outputs": [
    {
     "data": {
      "text/plain": [
       "array([[[ 0,  1,  2,  3],\n",
       "        [ 4,  5,  6,  7]],\n",
       "\n",
       "       [[ 8,  9, 10, 11],\n",
       "        [12, 13, 14, 15]],\n",
       "\n",
       "       [[16, 17, 18, 19],\n",
       "        [20, 21, 22, 23]],\n",
       "\n",
       "       [[24, 25, 26, 27],\n",
       "        [28, 29, 30, 31]]])"
      ]
     },
     "execution_count": 15,
     "metadata": {},
     "output_type": "execute_result"
    }
   ],
   "source": [
    "b = np.arange(32).reshape(4,2,4)\n",
    "b"
   ]
  },
  {
   "cell_type": "markdown",
   "metadata": {
    "deletable": true,
    "editable": true
   },
   "source": [
    "### More challenges\n",
    "How many dimensions does the array below have? What is its shape?\n",
    "How would you select the upper-right-corner element? What about the lower-left-corner element?"
   ]
  },
  {
   "cell_type": "code",
   "execution_count": 16,
   "metadata": {
    "collapsed": false,
    "deletable": true,
    "editable": true
   },
   "outputs": [
    {
     "data": {
      "text/plain": [
       "array([[[[ 0.64324525,  0.80584359,  0.89001553,  0.43723837],\n",
       "         [ 0.76703015,  0.63127894,  0.0580256 ,  0.33875673],\n",
       "         [ 0.74950038,  0.42386895,  0.7099328 ,  0.29017502]],\n",
       "\n",
       "        [[ 0.1668537 ,  0.36433874,  0.67153902,  0.2515578 ],\n",
       "         [ 0.73822282,  0.32804924,  0.17935036,  0.8704942 ],\n",
       "         [ 0.21463532,  0.71880492,  0.28226344,  0.3471165 ]]],\n",
       "\n",
       "\n",
       "       [[[ 0.68912107,  0.58276167,  0.61763156,  0.68491547],\n",
       "         [ 0.72656457,  0.40734419,  0.02995847,  0.74781974],\n",
       "         [ 0.96601745,  0.21050407,  0.38775513,  0.090751  ]],\n",
       "\n",
       "        [[ 0.87564186,  0.10719403,  0.14491486,  0.19296727],\n",
       "         [ 0.77835952,  0.55557585,  0.88992618,  0.41056965],\n",
       "         [ 0.23188376,  0.44188319,  0.57502333,  0.64752541]]]])"
      ]
     },
     "execution_count": 16,
     "metadata": {},
     "output_type": "execute_result"
    }
   ],
   "source": [
    "d = np.random.rand(2, 2, 3, 4)\n",
    "d"
   ]
  },
  {
   "cell_type": "code",
   "execution_count": null,
   "metadata": {
    "collapsed": true,
    "deletable": true,
    "editable": true
   },
   "outputs": [],
   "source": []
  }
 ],
 "metadata": {
  "kernelspec": {
   "display_name": "Python 3",
   "language": "python",
   "name": "python3"
  },
  "language_info": {
   "codemirror_mode": {
    "name": "ipython",
    "version": 3
   },
   "file_extension": ".py",
   "mimetype": "text/x-python",
   "name": "python",
   "nbconvert_exporter": "python",
   "pygments_lexer": "ipython3",
   "version": "3.6.4"
  }
 },
 "nbformat": 4,
 "nbformat_minor": 2
}
